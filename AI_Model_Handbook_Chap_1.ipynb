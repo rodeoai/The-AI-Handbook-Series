{
  "nbformat": 4,
  "nbformat_minor": 0,
  "metadata": {
    "colab": {
      "name": "AI_Model_Handbook_Chap_1.ipynb",
      "provenance": [],
      "collapsed_sections": [],
      "authorship_tag": "ABX9TyMEw3qKVGRVHFgY2jfI/T0j",
      "include_colab_link": true
    },
    "kernelspec": {
      "name": "python3",
      "display_name": "Python 3"
    },
    "language_info": {
      "name": "python"
    }
  },
  "cells": [
    {
      "cell_type": "markdown",
      "metadata": {
        "id": "view-in-github",
        "colab_type": "text"
      },
      "source": [
        "<a href=\"https://colab.research.google.com/github/rodeoai/rodeoai/blob/main/AI_Model_Handbook_Chap_1.ipynb\" target=\"_parent\"><img src=\"https://colab.research.google.com/assets/colab-badge.svg\" alt=\"Open In Colab\"/></a>"
      ]
    },
    {
      "cell_type": "markdown",
      "source": [
        "# AI Model Handbook \n",
        "## Chapter 1: Artificial Intelligence and Machine Learning\n",
        "There is code for this chapter. You can find the book here https://www.amazon.com/Model-Handbook-artificial-intelligence-Intelligence-ebook/dp/B09JN6BXD9"
      ],
      "metadata": {
        "id": "MuOm7JHJXYhv"
      }
    }
  ]
}